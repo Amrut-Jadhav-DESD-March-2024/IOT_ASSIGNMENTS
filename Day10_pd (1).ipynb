{
 "cells": [
  {
   "cell_type": "code",
   "execution_count": 3,
   "id": "3f26a342-b236-429e-a3ce-d959bc622a19",
   "metadata": {},
   "outputs": [],
   "source": [
    "import pandas as pd\n",
    "import numpy as np"
   ]
  },
  {
   "cell_type": "code",
   "execution_count": 6,
   "id": "e7332913-72c0-4392-86b7-bccb1f59092f",
   "metadata": {},
   "outputs": [],
   "source": [
    "def q1():\n",
    "    print(\"Question 1\")\n",
    "    data = [1, 2, 3, 4, 5]  \n",
    "    ex1 = pd.Series(data) \n",
    "    n1 = np.array(ex1)\n",
    "    print(n1) \n"
   ]
  },
  {
   "cell_type": "code",
   "execution_count": 7,
   "id": "f9fdf942-29df-44e6-8076-821eb7b50f70",
   "metadata": {},
   "outputs": [
    {
     "name": "stdout",
     "output_type": "stream",
     "text": [
      "Question 1\n",
      "[1 2 3 4 5]\n"
     ]
    }
   ],
   "source": [
    "q1()"
   ]
  },
  {
   "cell_type": "code",
   "execution_count": 10,
   "id": "0f4d086f-0126-49c5-ae9e-9b59dc5cdadf",
   "metadata": {},
   "outputs": [],
   "source": [
    "def q2():\n",
    "    print(\"Question 2\")\n",
    "    p1 = pd.Series([6,52,98,46])\n",
    "    l1 = [p1]\n",
    "    print(l1)"
   ]
  },
  {
   "cell_type": "code",
   "execution_count": 11,
   "id": "d25bd19d-5aa8-4024-b8f3-0f82a3c427c3",
   "metadata": {},
   "outputs": [
    {
     "name": "stdout",
     "output_type": "stream",
     "text": [
      "Question 2\n",
      "[0     6\n",
      "1    52\n",
      "2    98\n",
      "3    46\n",
      "dtype: int64]\n"
     ]
    }
   ],
   "source": [
    "q2()"
   ]
  },
  {
   "cell_type": "code",
   "execution_count": 24,
   "id": "6c3022de-6e58-400d-942c-8eb1da7a5a06",
   "metadata": {},
   "outputs": [],
   "source": [
    "def q3():\n",
    "    print(\"Question 3\")\n",
    "    l1 = [2, 4, 6, 8, 10]\n",
    "    l2 = [1, 3, 5, 7, 9]\n",
    "    p1 = pd.Series(l1)\n",
    "    print(f\"Pandas Series1 {p1}\")\n",
    "    p2 = pd.Series(l2)\n",
    "    print(f\"Pandas Series1 {p2}\")\n",
    "    print(f\"Addition of Series 1 and 2 \")\n",
    "    print(p1 + p2)\n",
    "    print(f\"Subtraction of Series 1 and 2 \")\n",
    "    print(p1 - p2)\n",
    "    print(f\"Multiplication of Series 1 and 2 \")\n",
    "    print(p1 * p2)\n",
    "    print(f\"Division of Series 1 and 2 \")\n",
    "    print(p1 // p2)\n",
    "    "
   ]
  },
  {
   "cell_type": "code",
   "execution_count": 25,
   "id": "7cd59d4a-405e-43b8-929b-416159209382",
   "metadata": {},
   "outputs": [
    {
     "name": "stdout",
     "output_type": "stream",
     "text": [
      "Question 3\n",
      "Pandas Series1 0     2\n",
      "1     4\n",
      "2     6\n",
      "3     8\n",
      "4    10\n",
      "dtype: int64\n",
      "Pandas Series1 0    1\n",
      "1    3\n",
      "2    5\n",
      "3    7\n",
      "4    9\n",
      "dtype: int64\n",
      "Addition of Series 1 and 2 \n",
      "0     3\n",
      "1     7\n",
      "2    11\n",
      "3    15\n",
      "4    19\n",
      "dtype: int64\n",
      "Subtraction of Series 1 and 2 \n",
      "0    1\n",
      "1    1\n",
      "2    1\n",
      "3    1\n",
      "4    1\n",
      "dtype: int64\n",
      "Multiplication of Series 1 and 2 \n",
      "0     2\n",
      "1    12\n",
      "2    30\n",
      "3    56\n",
      "4    90\n",
      "dtype: int64\n",
      "Division of Series 1 and 2 \n",
      "0    2\n",
      "1    1\n",
      "2    1\n",
      "3    1\n",
      "4    1\n",
      "dtype: int64\n"
     ]
    }
   ],
   "source": [
    "q3()"
   ]
  },
  {
   "cell_type": "code",
   "execution_count": 29,
   "id": "28dd5626-59f8-4d3c-aa63-c05098976f74",
   "metadata": {},
   "outputs": [],
   "source": [
    "def q4():\n",
    "    print(\"Question 4\")\n",
    "    d1 = {\"Name\":\"Shubham\",\"Age\" : \"22\",\"City\":\"Pune\"}\n",
    "    p1 = pd.Series(d1)\n",
    "    print(\"Dictionary to Pandas Series\")\n",
    "    print(f\"Dictionay {d1}\")\n",
    "    print(\"Series\")\n",
    "    print(p1)\n"
   ]
  },
  {
   "cell_type": "code",
   "execution_count": 30,
   "id": "259d39c9-007e-45d8-9c80-5c8db0320f6e",
   "metadata": {},
   "outputs": [
    {
     "name": "stdout",
     "output_type": "stream",
     "text": [
      "Question 4\n",
      "Dictionary to Pandas Series\n",
      "Dictionay {'Name': 'Vilas', 'Age': '36', 'City': 'Mirzapur'}\n",
      "Series\n",
      "Name       Vilas\n",
      "Age           36\n",
      "City    Mirzapur\n",
      "dtype: object\n"
     ]
    }
   ],
   "source": [
    "q4()"
   ]
  },
  {
   "cell_type": "code",
   "execution_count": 31,
   "id": "c52cbfb4-37ca-4e1e-8393-1cf2c10089a0",
   "metadata": {},
   "outputs": [],
   "source": [
    "def q5():\n",
    "    print(\"Question 5\")\n",
    "    d1 = [50,60,40,70] \n",
    "    n1 = np.array(d1)\n",
    "    p1 = pd.Series(n1)\n",
    "    print(\"Numpy array to Pandas Series\")\n",
    "    print(f\"Numpy Array {n1}\")\n",
    "    print(\"Series\")\n",
    "    print(p1)\n"
   ]
  },
  {
   "cell_type": "code",
   "execution_count": 32,
   "id": "aa57a8bb-4f70-4e26-82f7-c895c10f7e1b",
   "metadata": {},
   "outputs": [
    {
     "name": "stdout",
     "output_type": "stream",
     "text": [
      "Question 5\n",
      "Numpy array to Pandas Series\n",
      "Numpy Array [50 60 40 70]\n",
      "Series\n",
      "0    50\n",
      "1    60\n",
      "2    40\n",
      "3    70\n",
      "dtype: int64\n"
     ]
    }
   ],
   "source": [
    "q5()"
   ]
  },
  {
   "cell_type": "code",
   "execution_count": 41,
   "id": "f3fb212d-1698-48da-91e0-35f83dea643c",
   "metadata": {},
   "outputs": [],
   "source": [
    "def q6():\n",
    "    print(\"Question 6\")\n",
    "    p1 = pd.Series(['100', '200', '300.12', '400'])\n",
    "    print(p1)\n",
    "    print(\"After changing datatype of series\")\n",
    "    p2 = pd.to_numeric(p1)\n",
    "    print(p2)"
   ]
  },
  {
   "cell_type": "code",
   "execution_count": 42,
   "id": "c89fffba-e3e2-40a4-85a5-a0b0e443009b",
   "metadata": {},
   "outputs": [
    {
     "name": "stdout",
     "output_type": "stream",
     "text": [
      "Question 6\n",
      "0       100\n",
      "1       200\n",
      "2    300.12\n",
      "3       400\n",
      "dtype: object\n",
      "After changing datatype of series\n",
      "0    100.00\n",
      "1    200.00\n",
      "2    300.12\n",
      "3    400.00\n",
      "dtype: float64\n"
     ]
    }
   ],
   "source": [
    "q6()"
   ]
  },
  {
   "cell_type": "code",
   "execution_count": 43,
   "id": "679c7e63-7e76-4ce7-bd04-ab8afe89b0d4",
   "metadata": {},
   "outputs": [],
   "source": [
    "def q7():\n",
    "    print(\"Question 7\")\n",
    "    d1 = [50,60,40,70] \n",
    "    p1 = pd.Series(d1)\n",
    "    print(\"Pandas Series to numpy array\")\n",
    "    print(\"Series\")\n",
    "    print(p1)\n",
    "    n1 = np.array(p1)\n",
    "    print(f\"Numpy Array {n1}\")    "
   ]
  },
  {
   "cell_type": "code",
   "execution_count": 44,
   "id": "e23047cc-d994-4832-af85-a82f79f1cdb2",
   "metadata": {},
   "outputs": [
    {
     "name": "stdout",
     "output_type": "stream",
     "text": [
      "Question 7\n",
      "Pandas Series to numpy array\n",
      "Series\n",
      "0    50\n",
      "1    60\n",
      "2    40\n",
      "3    70\n",
      "dtype: int64\n",
      "Numpy Array [50 60 40 70]\n"
     ]
    }
   ],
   "source": [
    "q7()"
   ]
  },
  {
   "cell_type": "code",
   "execution_count": 53,
   "id": "1eeb9d43-8e82-43f7-8295-9f99e1aa1d7b",
   "metadata": {},
   "outputs": [],
   "source": [
    "def q8():\n",
    "    print(\"Question 8\")\n",
    "    print(\"Dictonary to Pandas Dataframe\")\n",
    "    print(\"Dictionary\")\n",
    "    d1 = {\"Name\":\"Vilas\",\"Age\" : \"36\",\"City\":\"Mirzapur\"}\n",
    "    print(d1)\n",
    "    d2 = {\"Name\":\"Ashok\",\"Age\" : \"38\",\"City\":\"Junagarh\"}\n",
    "    print(d2)\n",
    "    d3 = {\"Name\":\"Kishor\",\"Age\" : \"40\",\"City\":\"Dharavi\"}\n",
    "    print(d3)\n",
    "    p1 = pd.DataFrame([d1,d2,d3])\n",
    "    print(\"DataFrame of this Dictionary's\")\n",
    "    print(p1)\n",
    "    "
   ]
  },
  {
   "cell_type": "code",
   "execution_count": 54,
   "id": "6320d673-056c-4c93-b0d6-29618880cbab",
   "metadata": {},
   "outputs": [
    {
     "name": "stdout",
     "output_type": "stream",
     "text": [
      "Question 8\n",
      "Dictonary to Pandas Dataframe\n",
      "Dictionary\n",
      "{'Name': 'Vilas', 'Age': '36', 'City': 'Mirzapur'}\n",
      "{'Name': 'Ashok', 'Age': '38', 'City': 'Junagarh'}\n",
      "{'Name': 'Kishor', 'Age': '40', 'City': 'Dharavi'}\n",
      "DataFrame of this Dictionary's\n",
      "     Name Age      City\n",
      "0   Vilas  36  Mirzapur\n",
      "1   Ashok  38  Junagarh\n",
      "2  Kishor  40   Dharavi\n"
     ]
    }
   ],
   "source": [
    "q8()"
   ]
  },
  {
   "cell_type": "code",
   "execution_count": 102,
   "id": "ccf1facb-49b5-40ae-88ed-7f4dfda967bb",
   "metadata": {},
   "outputs": [],
   "source": [
    "def q9():\n",
    "    print(\"Question 8\")\n",
    "    empids = [101,102,103,104,105,106,107,108,109,110]\n",
    "    names = ['Ravi','Kishan','Manohar','Kishor','Munna','Raju','Shashi','Birju','Teja','Ashok',]\n",
    "    s1 = pd.Series(empids)\n",
    "    s2 = pd.Series(names,index = empids)\n",
    "    print(f\"Data type of series 1 {type(s1)}\")\n",
    "    print(f\"Data type of series 2 {type(s2)}\")\n",
    "    df1 = pd.DataFrame(s2)\n",
    "    print(df1)\n",
    "    df1.to_csv('MyRecords.csv')\n",
    "    df2 = pd.read_csv('./MyRecords.csv')\n",
    "    print(\"First 5 records\")\n",
    "    p = df2.head()\n",
    "    print(p)\n",
    "    print(\"Last 5 records\")\n",
    "    p = df2.tail()\n",
    "    print(p)\n",
    "    print(\"First 2 And Last 2 records\")\n",
    "    p = df2.head(2)\n",
    "    print(p)\n",
    "    p = df2.tail(2)\n",
    "    print(p)\n",
    "    print(f\"Name of 5th employee \")\n",
    "    print(df1.iloc[4])\n",
    "    print(f\"Name of 4th employee \")\n",
    "    print(df1.iloc[3])\n",
    "    \n",
    "    \n",
    "    \n",
    "    "
   ]
  },
  {
   "cell_type": "code",
   "execution_count": 103,
   "id": "8c7ef988-4b5b-4106-b052-3d37df7a4320",
   "metadata": {},
   "outputs": [
    {
     "name": "stdout",
     "output_type": "stream",
     "text": [
      "Question 8\n",
      "Data type of series 1 <class 'pandas.core.series.Series'>\n",
      "Data type of series 2 <class 'pandas.core.series.Series'>\n",
      "           0\n",
      "101     Ravi\n",
      "102   Kishan\n",
      "103  Manohar\n",
      "104   Kishor\n",
      "105    Munna\n",
      "106     Raju\n",
      "107   Shashi\n",
      "108    Birju\n",
      "109     Teja\n",
      "110    Ashok\n",
      "First 5 records\n",
      "   Unnamed: 0        0\n",
      "0         101     Ravi\n",
      "1         102   Kishan\n",
      "2         103  Manohar\n",
      "3         104   Kishor\n",
      "4         105    Munna\n",
      "Last 5 records\n",
      "   Unnamed: 0       0\n",
      "5         106    Raju\n",
      "6         107  Shashi\n",
      "7         108   Birju\n",
      "8         109    Teja\n",
      "9         110   Ashok\n",
      "First 2 And Last 2 records\n",
      "   Unnamed: 0       0\n",
      "0         101    Ravi\n",
      "1         102  Kishan\n",
      "   Unnamed: 0      0\n",
      "8         109   Teja\n",
      "9         110  Ashok\n",
      "Name of 5th employee \n",
      "0    Munna\n",
      "Name: 105, dtype: object\n",
      "Name of 4th employee \n",
      "0    Kishor\n",
      "Name: 104, dtype: object\n"
     ]
    }
   ],
   "source": [
    "q9()"
   ]
  },
  {
   "cell_type": "code",
   "execution_count": null,
   "id": "f27fed1f-722e-4117-9ed1-56b1cc971aed",
   "metadata": {},
   "outputs": [],
   "source": [
    "def q10():\n",
    "    "
   ]
  },
  {
   "cell_type": "code",
   "execution_count": null,
   "id": "15d414b6-64c2-42c8-a48e-3b7c84a81fc1",
   "metadata": {},
   "outputs": [],
   "source": []
  }
 ],
 "metadata": {
  "kernelspec": {
   "display_name": "Python 3 (ipykernel)",
   "language": "python",
   "name": "python3"
  },
  "language_info": {
   "codemirror_mode": {
    "name": "ipython",
    "version": 3
   },
   "file_extension": ".py",
   "mimetype": "text/x-python",
   "name": "python",
   "nbconvert_exporter": "python",
   "pygments_lexer": "ipython3",
   "version": "3.10.12"
  }
 },
 "nbformat": 4,
 "nbformat_minor": 5
}
