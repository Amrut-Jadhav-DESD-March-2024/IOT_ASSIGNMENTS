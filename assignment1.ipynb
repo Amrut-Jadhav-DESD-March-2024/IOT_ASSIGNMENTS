{
 "cells": [
  {
   "cell_type": "code",
   "execution_count": 80,
   "id": "a1ce0f98-5554-4ea7-b49a-ddee2202bf82",
   "metadata": {},
   "outputs": [],
   "source": [
    "import numpy as np"
   ]
  },
  {
   "cell_type": "code",
   "execution_count": 81,
   "id": "40f4ff81-92ce-443b-bf9a-95ba47b52ba2",
   "metadata": {},
   "outputs": [],
   "source": [
    "#Q1. Write a NumPy program to create an array with the values 1, 7, 13, 105 and determine the size of the memory occupied by the array.\n",
    "def fun1():\n",
    "    a1=np.array([1,7,13,105])\n",
    "    print(a1)\n",
    "    print(a1.itemsize)\n",
    "    print(a1.nbytes)\n",
    "\n",
    "\n"
   ]
  },
  {
   "cell_type": "code",
   "execution_count": 82,
   "id": "da5d7e7a-bce3-4133-9bc8-3ddf46db9c16",
   "metadata": {},
   "outputs": [
    {
     "name": "stdout",
     "output_type": "stream",
     "text": [
      "[  1   7  13 105]\n",
      "8\n",
      "32\n"
     ]
    }
   ],
   "source": [
    "fun1()"
   ]
  },
  {
   "cell_type": "code",
   "execution_count": 83,
   "id": "d914255f-f6ce-4215-bff4-85bee2dda7ba",
   "metadata": {},
   "outputs": [
    {
     "name": "stdout",
     "output_type": "stream",
     "text": [
      "a2 is greater\n"
     ]
    }
   ],
   "source": [
    "#Q2.Write a NumPy program to create an element-wise comparison (greater,greater_equal, less and less_equal) of two given arrays.\n",
    "\n",
    "def fun2(a):\n",
    "    a1=[11,22,33,44]\n",
    "    a2=[55,66,77,88]\n",
    "   \n",
    "    if a2[a]>a1[a]:\n",
    "        print(\"a2 is greater\")\n",
    "    elif a1[a]==a2[a]:\n",
    "        print(\"a1 and a2 are equal\")\n",
    "    elif a1[a]<a2[a]:\n",
    "        print(\"a1 is smaller\")\n",
    "    elif a1[a]<=a2[a]:\n",
    "        print(\"a1 is smaller or equal to a2\")\n",
    "\n",
    "fun2(3)\n",
    "\n"
   ]
  },
  {
   "cell_type": "code",
   "execution_count": 90,
   "id": "90e18b89-424a-4328-af00-2d06cece5bd4",
   "metadata": {},
   "outputs": [],
   "source": [
    "#Q3.Write a NumPy program to create an array of 10 zeros, 10 ones, 10 fives, 10 tens, 10 twentys and 10 fiftys.\n",
    "def fun3():  \n",
    "    a1=np.zeros(10)\n",
    "    a2=np.ones(10)\n",
    "    print(a1)\n",
    "    print(a2)\n",
    "    print(a2*5)\n",
    "    print(a2*20)\n",
    "    print(a2*50)\n"
   ]
  },
  {
   "cell_type": "code",
   "execution_count": 85,
   "id": "62679a01-5cc8-46b8-92e1-b1dfea7b08fa",
   "metadata": {},
   "outputs": [
    {
     "name": "stdout",
     "output_type": "stream",
     "text": [
      "[0 0 0 0 0 0 0 0 0 0]\n",
      "[1. 1. 1. 1. 1. 1. 1. 1. 1. 1.]\n",
      "[5. 5. 5. 5. 5. 5. 5. 5. 5. 5.]\n",
      "[20. 20. 20. 20. 20. 20. 20. 20. 20. 20.]\n",
      "[50. 50. 50. 50. 50. 50. 50. 50. 50. 50.]\n"
     ]
    }
   ],
   "source": [
    "fun3()"
   ]
  },
  {
   "cell_type": "code",
   "execution_count": 86,
   "id": "f40a8c73-eaf7-4fe2-8f3b-bdcbd377bfc3",
   "metadata": {
    "scrolled": true
   },
   "outputs": [
    {
     "name": "stdout",
     "output_type": "stream",
     "text": [
      "[30 31 32 33 34 35 36 37 38 39 40 41 42 43 44 45 46 47 48 49 50 51 52 53\n",
      " 54 55 56 57 58 59 60 61 62 63 64 65 66 67 68 69]\n"
     ]
    }
   ],
   "source": [
    "#Q4. Write a NumPy program to create an array of integers from 30 to 70.\n",
    "def fun4():\n",
    "    arr=np.arange(30,70)\n",
    "    print(arr)\n",
    "\n",
    "\n",
    "fun4()"
   ]
  },
  {
   "cell_type": "code",
   "execution_count": 87,
   "id": "1174f219-de0c-41e0-bde3-e2d5e7e9797f",
   "metadata": {},
   "outputs": [
    {
     "name": "stdout",
     "output_type": "stream",
     "text": [
      "[50 51 52 53 54 55 56 57 58 59 60 61 62 63 64 65 66 67 68 69 70 71 72 73\n",
      " 74 75 76 77 78 79 80 81 82 83 84 85 86 87 88 89 90 91 92 93 94]\n"
     ]
    }
   ],
   "source": [
    "#q5. Write a NumPy program to create an array of integers from 50 to 95.\n",
    "def fun():\n",
    "    arr=np.arange(50,95)\n",
    "    print(arr)\n",
    "\n",
    "\n",
    "fun()"
   ]
  },
  {
   "cell_type": "code",
   "execution_count": 89,
   "id": "fe50d199-9cfd-4a98-b5c9-abc30e1d0aaf",
   "metadata": {},
   "outputs": [
    {
     "name": "stdout",
     "output_type": "stream",
     "text": [
      "[20 22 24 26 28 30 32 34 36 38 40 42 44 46 48 50 52 54 56 58 60 62 64 66\n",
      " 68 70 72 74 76 78]\n"
     ]
    }
   ],
   "source": [
    "#Q6. Write a NumPy program to create an array of all even integers from 20 to 80.\n",
    "def fun():\n",
    "    arr=np.arange(20,80,2)\n",
    "    print(arr)\n",
    "\n",
    "\n",
    "fun()\n",
    "\n"
   ]
  },
  {
   "cell_type": "code",
   "execution_count": 92,
   "id": "885221bd-2819-4b83-a95a-21f03ad951c5",
   "metadata": {},
   "outputs": [
    {
     "name": "stdout",
     "output_type": "stream",
     "text": [
      "[19 21 23 25 27 29 31 33 35 37 39 41 43 45 47 49 51 53 55 57 59 61 63 65\n",
      " 67 69 71 73 75 77 79]\n"
     ]
    }
   ],
   "source": [
    "#Q7. Write a NumPy program to create an array of all odd integers from 20 to 80.\n",
    "def fun():\n",
    "    arr=np.arange(19,80,2)\n",
    "    print(arr)\n",
    "\n",
    "\n",
    "fun()"
   ]
  },
  {
   "cell_type": "code",
   "execution_count": 93,
   "id": "6b36b669-dcbd-4e64-b2c7-be6e19d63095",
   "metadata": {},
   "outputs": [
    {
     "name": "stdout",
     "output_type": "stream",
     "text": [
      "[34 12 34 29 35 10 12 25 11 24 16 11 39 27 26]\n"
     ]
    }
   ],
   "source": [
    " #Q8. Write a NumPy program to generate an array of 15 random numbers from 10 to 40.\n",
    "def fun():\n",
    "    arr=np.random.randint(10,40,15)\n",
    "    print(arr)\n",
    "fun()\n",
    "\n"
   ]
  },
  {
   "cell_type": "code",
   "execution_count": 95,
   "id": "510f72cb-a4a2-4ffb-a090-7363a3190d18",
   "metadata": {},
   "outputs": [
    {
     "name": "stdout",
     "output_type": "stream",
     "text": [
      "[39 37 43 39 31 46 38 49 30 32]\n"
     ]
    }
   ],
   "source": [
    "#Q9. Write a NumPy program to generate an array of 10 random numbers from 30 to 50.\n",
    "def fun():\n",
    "    arr=np.random.randint(30,50,10)\n",
    "    print(arr)\n",
    "fun()\n",
    "\n",
    "    "
   ]
  },
  {
   "cell_type": "code",
   "execution_count": 96,
   "id": "13259044-9257-4e67-8976-638ba3bb1121",
   "metadata": {},
   "outputs": [
    {
     "name": "stdout",
     "output_type": "stream",
     "text": [
      "[59 83 58 53 78 73 63 58 75 50 54 66 88 87 51 58 73 70 77 72]\n"
     ]
    }
   ],
   "source": [
    "#Q10. Write a NumPy program to generate an array of 20 random numbers from 50 to 90.\n",
    "def fun():\n",
    "    arr=np.random.randint(50,90,20)\n",
    "    print(arr)\n",
    "fun()\n"
   ]
  },
  {
   "cell_type": "code",
   "execution_count": 97,
   "id": "68078c6d-173a-497a-a811-7bd8bfa21e40",
   "metadata": {},
   "outputs": [
    {
     "name": "stdout",
     "output_type": "stream",
     "text": [
      "N1 = [11 22 33 44]\n",
      "N2 = [10 20 30 40]\n",
      "[21 42 63 84]\n",
      "[1 2 3 4]\n",
      "[ 110  440  990 1760]\n",
      "[1.1 1.1 1.1 1.1]\n"
     ]
    }
   ],
   "source": [
    "# Q11.Create any two arrays & perform various mathematical operations.\n",
    "#     i.e. Addition, Substraction, Multiplication, Divide.\n",
    "n1 = np.array([11,22,33,44])\n",
    "n2 = np.array([10,20,30,40])\n",
    "print(f\"N1 = {n1}\")\n",
    "print(f\"N2 = {n2}\")\n",
    "print(n1+n2)\n",
    "print(n1-n2)\n",
    "print(n1*n2)\n",
    "print(n1/n2)"
   ]
  },
  {
   "cell_type": "code",
   "execution_count": 137,
   "id": "2455e1fe-5eac-40be-8175-4c2e99efb155",
   "metadata": {},
   "outputs": [
    {
     "name": "stdout",
     "output_type": "stream",
     "text": [
      "[[10 11 12 13]\n",
      " [14 15 16 17]\n",
      " [18 19 20 21]]\n"
     ]
    }
   ],
   "source": [
    "#Q12.Write a NumPy program to create a 3x4 matrix filled with values from 10 to 21.\n",
    "\n",
    "def fun():\n",
    "    arr=np.arange(10,22).reshape((3,4))\n",
    "    print(arr)\n",
    "fun()"
   ]
  },
  {
   "cell_type": "code",
   "execution_count": 114,
   "id": "1aae00d5-b791-41b5-9998-18870872f068",
   "metadata": {},
   "outputs": [
    {
     "name": "stdout",
     "output_type": "stream",
     "text": [
      "[[1 0 0]\n",
      " [0 1 0]\n",
      " [0 0 1]]\n"
     ]
    }
   ],
   "source": [
    "#Q13. Write a NumPy program to create a 3x3 identity matrix, i.e. the diagonal elements are 1, the rest are 0.\n",
    "def fun():\n",
    "    arr=np.array([1,0,0,0,1,0,0,0,1])\n",
    "    \n",
    "    arr=arr.reshape([3,3])\n",
    "    print(arr)\n",
    "\n",
    "\n",
    "fun()\n",
    "    \n",
    "\n",
    "\n",
    "\n",
    "\n"
   ]
  },
  {
   "cell_type": "code",
   "execution_count": 110,
   "id": "a1739171-9892-4003-9daa-3f2abdb3a978",
   "metadata": {},
   "outputs": [
    {
     "name": "stdout",
     "output_type": "stream",
     "text": [
      "Shape = (3, 3)\n"
     ]
    }
   ],
   "source": [
    "#Q14. Write a NumPy program to find the number of rows and columns in a given matrix. \n",
    "def fun():\n",
    "    arr=np.random.randint(30,50,9)\n",
    "    print(arr)\n",
    "    arr = arr.reshape([3,3])\n",
    "    print(arr)\n",
    "    print(f\"Shape = {arr.shape}\")\n",
    "\n",
    "\n",
    "fun()\n",
    "\n",
    "\n"
   ]
  },
  {
   "cell_type": "code",
   "execution_count": 112,
   "id": "d203ffe6-1b0c-4e95-9e7e-a7b028f1ee17",
   "metadata": {},
   "outputs": [
    {
     "name": "stdout",
     "output_type": "stream",
     "text": [
      "[[1 0 0 0 0]\n",
      " [0 2 0 0 0]\n",
      " [0 0 3 0 0]\n",
      " [0 0 0 4 0]\n",
      " [0 0 0 0 5]]\n"
     ]
    }
   ],
   "source": [
    "#Q15. Write a NumPy program to create a 5x5 zero matrix with elements on the main diagonal equal to 1, 2, 3, 4, 5.\n",
    "\n",
    "\n",
    "a=np.diag([1,2,3,4,5])\n",
    "print(a)"
   ]
  },
  {
   "cell_type": "code",
   "execution_count": 117,
   "id": "6e26985d-80d8-4dc1-a425-c16120897fdf",
   "metadata": {},
   "outputs": [
    {
     "name": "stdout",
     "output_type": "stream",
     "text": [
      "[[[0.18480008 0.6212091  0.97841245]\n",
      "  [0.08384052 0.50406524 0.61715582]\n",
      "  [0.03190451 0.54979741 0.42968965]]\n",
      "\n",
      " [[0.56747303 0.0224581  0.86382826]\n",
      "  [0.91816499 0.76261584 0.70659269]\n",
      "  [0.35886078 0.38584214 0.36004762]]\n",
      "\n",
      " [[0.73911634 0.38048587 0.91975688]\n",
      "  [0.47367016 0.97382345 0.87190901]\n",
      "  [0.65442288 0.49093264 0.27604723]]]\n"
     ]
    }
   ],
   "source": [
    "#Q16. Write a NumPy program to create a 3x3x3 array filled with arbitrary values.\n",
    "x=np.random.random([3,3,3])\n",
    "print(x)"
   ]
  },
  {
   "cell_type": "code",
   "execution_count": 118,
   "id": "10e99f49-aa34-493f-8712-9636a7956f4e",
   "metadata": {},
   "outputs": [
    {
     "name": "stdout",
     "output_type": "stream",
     "text": [
      "[[[0.3438884  0.48930178 0.73694376 0.87772276]\n",
      "  [0.9077742  0.40832336 0.89989965 0.92477509]\n",
      "  [0.23348292 0.49834279 0.34710254 0.28472369]]\n",
      "\n",
      " [[0.44254395 0.72474153 0.77460907 0.98787619]\n",
      "  [0.8984225  0.22676434 0.8549512  0.54016058]\n",
      "  [0.76760407 0.54952137 0.98950249 0.97470891]]]\n"
     ]
    }
   ],
   "source": [
    "#Q17. Write a NumPy program to create a 2x3x4 array filled with arbitrary values.\n",
    "\n",
    "x=np.random.random([2,3,4])\n",
    "print(x)\n"
   ]
  },
  {
   "cell_type": "code",
   "execution_count": 120,
   "id": "addf6519-36d6-4096-bee3-cf529010ba99",
   "metadata": {},
   "outputs": [
    {
     "name": "stdout",
     "output_type": "stream",
     "text": [
      "[1, 2, 3, 4, 5, 6]\n",
      "[1 2 3 4 5 6]\n"
     ]
    }
   ],
   "source": [
    "#Q18. Write a NumPy program to convert a list of numeric values into a one-dimensional NumPy array.\n",
    "l1=[1,2,3,4,5,6]\n",
    "print(l1)\n",
    "arr=np.array(l1)\n",
    "print(arr)\n",
    "\n",
    "\n"
   ]
  },
  {
   "cell_type": "code",
   "execution_count": 127,
   "id": "750b383f-13e7-47f1-bfa5-a2b7bc775ae7",
   "metadata": {},
   "outputs": [
    {
     "name": "stdout",
     "output_type": "stream",
     "text": [
      "[[ 2  3  4]\n",
      " [ 5  6  7]\n",
      " [ 8  9 10]]\n"
     ]
    }
   ],
   "source": [
    "#Q19. Write a NumPy program to create a 3x3 matrix with values ranging from 2 to 10.\n",
    "\n",
    "def fun():\n",
    "    arr=np.arange(2,11).reshape(3,3)\n",
    "    print(arr)\n",
    "fun()"
   ]
  },
  {
   "cell_type": "code",
   "execution_count": 135,
   "id": "43fd0830-d853-4abf-81ae-5b718f6d041b",
   "metadata": {},
   "outputs": [
    {
     "name": "stdout",
     "output_type": "stream",
     "text": [
      "[12 13 14 15 16 17 18 19 20 21 22 23 24 25 26 27 28 29 30 31 32 33 34 35\n",
      " 36 37]\n"
     ]
    }
   ],
   "source": [
    "#Q20. Write a NumPy program to create an array with values ranging from 12 to 38.\n",
    "arr=np.arange(12,38)\n",
    "print(arr)"
   ]
  },
  {
   "cell_type": "code",
   "execution_count": 147,
   "id": "0842c78b-4a5e-4dfc-ad23-5d58110fd2ea",
   "metadata": {},
   "outputs": [
    {
     "name": "stdout",
     "output_type": "stream",
     "text": [
      "[1 2 3 4 6 7 8 9]\n",
      "[9 8 7 6 4 3 2 1]\n"
     ]
    }
   ],
   "source": [
    "#Q21. Write a NumPy program to reverse an array (the first element becomes the last).\n",
    "arr=np.array([1,2,3,4,6,7,8,9])\n",
    "print(arr)\n",
    "arr=arr[::-1]\n",
    "print(arr)"
   ]
  },
  {
   "cell_type": "code",
   "execution_count": 150,
   "id": "b51d7da1-db0d-40df-b772-8f59778189a3",
   "metadata": {},
   "outputs": [
    {
     "name": "stdout",
     "output_type": "stream",
     "text": [
      "[12, 34, 123, 421, 43, 23]\n",
      "[ 12.  34. 123. 421.  43.  23.]\n"
     ]
    }
   ],
   "source": [
    "#Q22. Write a NumPy program to convert an data type into to a floating type.\n",
    "arr=[12,34,123,421,43,23]\n",
    "print(arr)\n",
    "x = np.asfarray(arr)\n",
    "print(x)\n"
   ]
  },
  {
   "cell_type": "code",
   "execution_count": 151,
   "id": "18388db8-7e06-4aef-a91d-673272e27ab7",
   "metadata": {},
   "outputs": [
    {
     "name": "stdout",
     "output_type": "stream",
     "text": [
      "[[1, 2, 3, 4, 5], [10, 20, 30, 40, 50], [11, 22, 33, 44, 55]]\n",
      "[[ 1  2  3  4  5]\n",
      " [10 20 30 40 50]\n",
      " [11 22 33 44 55]]\n"
     ]
    }
   ],
   "source": [
    "#Q23. Write a NumPy program to convert a list array.\n",
    "l1=[[1,2,3,4,5],[10,20,30,40,50],[11,22,33,44,55]]\n",
    "print(l1)\n",
    "arr=np.array(l1)\n",
    "print(arr)\n",
    "\n"
   ]
  },
  {
   "cell_type": "code",
   "execution_count": 156,
   "id": "cd1f0ef4-42d4-4ef3-bca1-a7acd679163e",
   "metadata": {},
   "outputs": [
    {
     "name": "stdout",
     "output_type": "stream",
     "text": [
      "[ 1  2  3  4  5  6  7  8  9 10 11 12 13 14 15 16 17 18 19 20 21 22 23 24\n",
      " 25 26 27 28 29 30 31 32 33 34 35 36 37 38 39 40 41 42 43 44 45 46 47 48\n",
      " 49]\n",
      "[1 2 0 1 2 0 1 2 0 1 2 0 1 2 0 1 2 0 1 2 0 1 2 0 1 2 0 1 2 0 1 2 0 1 2 0 1\n",
      " 2 0 1 2 0 1 2 0 1 2 0 1]\n"
     ]
    }
   ],
   "source": [
    "#Q24. Write a NumPy program to get the element-wise remainder of an array of division.\n",
    "arr=np.arange(1,50)\n",
    "print(arr)\n",
    "print(np.remainder(arr,3))\n"
   ]
  },
  {
   "cell_type": "code",
   "execution_count": 155,
   "id": "15a779e4-fdd5-4b18-9146-f0eb6c600bd8",
   "metadata": {},
   "outputs": [
    {
     "name": "stdout",
     "output_type": "stream",
     "text": [
      "[20 21 22 23 24 25 26 27 28 29 30 31 32 33 34 35 36 37 38 39 40 41 42 43\n",
      " 44 45 46 47 48 49]\n",
      "[2 0 1 2 0 1 2 0 1 2 0 1 2 0 1 2 0 1 2 0 1 2 0 1 2 0 1 2 0 1]\n"
     ]
    }
   ],
   "source": [
    "#Q25. Write a NumPy program to get the element-wise remainder of an array of numbers from 20 to 50 which are divisible by 3.\n",
    "arr=np.arange(20,50)\n",
    "print(arr)\n",
    "print(np.remainder(arr,3))\n"
   ]
  },
  {
   "cell_type": "code",
   "execution_count": null,
   "id": "9096755b-c99c-4a9b-b0ba-7cf7ee5c7dd4",
   "metadata": {},
   "outputs": [],
   "source": []
  }
 ],
 "metadata": {
  "kernelspec": {
   "display_name": "Python 3 (ipykernel)",
   "language": "python",
   "name": "python3"
  },
  "language_info": {
   "codemirror_mode": {
    "name": "ipython",
    "version": 3
   },
   "file_extension": ".py",
   "mimetype": "text/x-python",
   "name": "python",
   "nbconvert_exporter": "python",
   "pygments_lexer": "ipython3",
   "version": "3.10.12"
  }
 },
 "nbformat": 4,
 "nbformat_minor": 5
}
